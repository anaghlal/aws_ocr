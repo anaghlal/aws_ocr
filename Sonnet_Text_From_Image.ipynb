{
 "cells": [
  {
   "cell_type": "markdown",
   "id": "ec56a512-a37b-48f8-8b71-a4532c90eb15",
   "metadata": {},
   "source": [
    "# Interacting with Claude 3-Sonnet with images\n",
    "\n",
    "## Context\n",
    "\n",
    "Claude 3 now includes the ability to pass an image along with text to the model. This allows you to ask questions about an image opening up a another dimension of interactivity. With Claude 3, the new Messages API body format is required. The following is an example of a multimodal in the Messages API format.\n",
    "\n",
    "Please see [Claude Vision](https://docs.anthropic.com/claude/docs/vision) for more details on Claude 3 multimodal capabilties and [Amazon Bedrock Claude Messages API](https://docs.aws.amazon.com/bedrock/latest/userguide/model-parameters-anthropic-claude-messages.html) for working with the new Messages API on Bedrock\n"
   ]
  },
  {
   "cell_type": "code",
   "execution_count": null,
   "id": "6e54ef3a-7414-40e8-9bbf-d16c0ac36305",
   "metadata": {
    "scrolled": true
   },
   "outputs": [],
   "source": [
    "{\n",
    "  \"modelId\": \"anthropic.claude-3-sonnet-20240229-v1:0\",\n",
    "  \"contentType\": \"application/json\",\n",
    "  \"accept\": \"application/json\",\n",
    "  \"body\": {\n",
    "    \"anthropic_version\": \"bedrock-2023-05-31\",\n",
    "    \"max_tokens\": 1500,\n",
    "    \"messages\": {\n",
    "      \"role\": \"user\",\n",
    "      \"content\": [\n",
    "        {\n",
    "          \"type\": \"image\",\n",
    "          \"source\": {\n",
    "            \"type\": \"base64\",\n",
    "            \"media_type\": \"image/jpeg\",\n",
    "            \"data\": \"iVBORw...\"\n",
    "          }\n",
    "        },\n",
    "        {\n",
    "          \"type\": \"text\",\n",
    "          \"text\": \"What's in this image?\"\n",
    "        }\n",
    "      ]\n",
    "    }\n",
    "  }\n",
    "}"
   ]
  },
  {
   "cell_type": "code",
   "execution_count": null,
   "id": "aca2b880-69a8-48d9-8365-a79bd37dca67",
   "metadata": {
    "scrolled": true
   },
   "outputs": [],
   "source": [
    "%pip install --upgrade pip\n",
    "%pip install boto3>=1.33.2 --force-reinstall --quiet\n",
    "%pip install botocore>=1.33.2 --force-reinstall --quiet\n"
   ]
  },
  {
   "cell_type": "markdown",
   "id": "7a6a6e6d-0a90-4c60-86af-68bd1f948d76",
   "metadata": {},
   "source": [
    "### Restart the kernel with the updated packages that are installed through the dependencies above"
   ]
  },
  {
   "cell_type": "code",
   "execution_count": null,
   "id": "b0042677-d6dd-4e51-ad08-8d781c8bbaeb",
   "metadata": {
    "scrolled": true
   },
   "outputs": [],
   "source": [
    "# restart kernel\n",
    "from IPython.core.display import HTML\n",
    "HTML(\"<script>Jupyter.notebook.kernel.restart()</script>\")"
   ]
  },
  {
   "cell_type": "markdown",
   "id": "e71af75c-e88f-43e8-b08b-a483c5df1e4c",
   "metadata": {},
   "source": [
    "### Follow the steps below to set up necessary packages\n",
    "1. Import the necessary libraries for creating the __bedrock-runtime__ needed to invoke foundation models, formatting our JSON bodies, and converting our images into base64 encoding"
   ]
  },
  {
   "cell_type": "code",
   "execution_count": null,
   "id": "8ac0f48c-d3e7-44d0-8894-5e67f6201c34",
   "metadata": {},
   "outputs": [],
   "source": [
    "import boto3\n",
    "import json\n",
    "import base64\n",
    "import json\n",
    "import xml.etree.ElementTree as ET\n",
    "from datetime import datetime\n",
    "from os import listdir, makedirs\n",
    "from os.path import isfile, join\n",
    "import shutil\n",
    "\n",
    "import boto3\n",
    "from IPython.display import HTML, display, Image as IImage\n",
    "from PIL import Image, ImageDraw, ImageFont\n",
    "import time\n",
    "import os\n",
    "\n",
    "from IPython.display import JSON\n",
    "\n",
    "\n",
    "bedrock_client = boto3.client('bedrock-runtime',region_name='ap-south-1')\n"
   ]
  },
  {
   "cell_type": "markdown",
   "id": "84869434-1fcb-4991-82f4-bf456519904a",
   "metadata": {},
   "source": [
    "### Define helper function to pass our models, messages, and inference parameters"
   ]
  },
  {
   "cell_type": "code",
   "execution_count": null,
   "id": "3a9903d6-cd27-4cdd-9e23-19603822e944",
   "metadata": {},
   "outputs": [],
   "source": [
    "def generate_message(bedrock_runtime, model_id, messages, max_tokens,top_p,temp):\n",
    "\n",
    "    body=json.dumps(\n",
    "        {\n",
    "            \"anthropic_version\": \"bedrock-2023-05-31\",\n",
    "            \"max_tokens\": max_tokens,\n",
    "            \"messages\": messages,\n",
    "            \"temperature\": temp,\n",
    "            \"top_p\": top_p\n",
    "        }  \n",
    "    )  \n",
    "    \n",
    "    response = bedrock_runtime.invoke_model(body=body, modelId=model_id)\n",
    "    response_body = json.loads(response.get('body').read())\n",
    "\n",
    "    return response_body"
   ]
  },
  {
   "cell_type": "code",
   "execution_count": null,
   "id": "97e01d04-bb97-44dc-aa36-393ad6f4ce2f",
   "metadata": {},
   "outputs": [],
   "source": [
    "bucketName = f\"anagh-sample\"\n",
    "imageName = \"pan_sample.JPG\"\n",
    "s3 = boto3.client('s3') \n",
    "display(IImage(url=s3.generate_presigned_url('get_object', Params={'Bucket': bucketName, 'Key': imageName})))\n",
    "s3.download_file(bucketName, imageName, imageName)"
   ]
  },
  {
   "cell_type": "code",
   "execution_count": null,
   "id": "d5ebf3e3-03bc-4c02-a9d7-049b877e549e",
   "metadata": {},
   "outputs": [],
   "source": []
  },
  {
   "cell_type": "markdown",
   "id": "48fd8bc3-3e24-4c64-ae99-c94be8602aea",
   "metadata": {},
   "source": [
    "### Process the jpeg image\n",
    "\n",
    "Here we process the jpeg image into b64 encoding. The result will be used as the image component of the message given to Claude 3. For further details on processing of the images for use in an API call please see [Claude Vision](https://docs.anthropic.com/claude/docs/vision)"
   ]
  },
  {
   "cell_type": "code",
   "execution_count": null,
   "id": "5ac13612-809a-4c48-a6c3-082bf818f255",
   "metadata": {},
   "outputs": [],
   "source": [
    "# Read reference image from file and encode as base64 strings.\n",
    "with open(imageName, \"rb\") as image_file:\n",
    "    content_image = base64.b64encode(image_file.read()).decode('utf8')"
   ]
  },
  {
   "cell_type": "markdown",
   "id": "8265b337-0c89-4037-a301-a6d69c45430e",
   "metadata": {},
   "source": [
    "### Create message payload that incorporates text and image input\n",
    "\n",
    "Here we create the multimodal content message for our input to Claude 3 with seperate JSON objects for the text component and the image component."
   ]
  },
  {
   "cell_type": "code",
   "execution_count": null,
   "id": "ef6e4813-5a02-4740-bf91-81c329d03aa3",
   "metadata": {},
   "outputs": [],
   "source": [
    "message_mm=[\n",
    "\n",
    "    { \"role\": \"user\",\n",
    "      \"content\": [\n",
    "      {\"type\": \"image\",\"source\": { \"type\": \"base64\",\"media_type\":\"image/jpeg\",\"data\": content_image}},\n",
    "      {\"type\": \"text\",\"text\": \"Extract text from image. List only the text found as a json document having structure with each word inside a text element and all text elementsof a line in a line element\"}\n",
    "      ]\n",
    "    }\n",
    "]\n"
   ]
  },
  {
   "cell_type": "code",
   "execution_count": null,
   "id": "342255dc-4835-475e-a4b3-c6daa2e5756b",
   "metadata": {
    "scrolled": true
   },
   "outputs": [],
   "source": [
    "response = generate_message(bedrock_client, model_id = \"anthropic.claude-3-sonnet-20240229-v1:0\",messages=message_mm,max_tokens=512,temp=0.5,top_p=0.9)"
   ]
  },
  {
   "cell_type": "code",
   "execution_count": null,
   "id": "764ae0b2-ed94-410d-a513-45db47d96659",
   "metadata": {},
   "outputs": [],
   "source": [
    "response"
   ]
  },
  {
   "cell_type": "code",
   "execution_count": null,
   "id": "0a947b10-468c-4bfa-acb4-42e9fd1c23ef",
   "metadata": {},
   "outputs": [],
   "source": [
    "response['content'][0]['text']"
   ]
  },
  {
   "cell_type": "code",
   "execution_count": null,
   "id": "6e717178-d425-4f1f-9a68-b4ebcd70e987",
   "metadata": {},
   "outputs": [],
   "source": [
    "prompt = \"\"\"The given document is an Indian PAN card where\n",
    "- The person-name is in the first line (key is person-name)\n",
    "- The parent-name is in the second line (key is parent-name)\n",
    "- The Date-Of-Birth (key is DOB)\n",
    "- PAN number (key is PAN)\n",
    "\n",
    "Extract all the above fields in key value pair and respond as json\n",
    "\"\"\""
   ]
  },
  {
   "cell_type": "code",
   "execution_count": null,
   "id": "68f8d46e-e1d8-4604-a2a7-ea5feb8635b4",
   "metadata": {},
   "outputs": [],
   "source": [
    "message_mm=[\n",
    "\n",
    "    { \"role\": \"user\",\n",
    "      \"content\": [\n",
    "      {\"type\": \"image\",\"source\": { \"type\": \"base64\",\"media_type\":\"image/jpeg\",\"data\": content_image}},\n",
    "      {\"type\": \"text\",\"text\": prompt}\n",
    "      ]\n",
    "    }\n",
    "]\n",
    "\n",
    "response = generate_message(bedrock_client, model_id = \"anthropic.claude-3-sonnet-20240229-v1:0\",messages=message_mm,max_tokens=512,temp=0.5,top_p=0.9)"
   ]
  },
  {
   "cell_type": "code",
   "execution_count": null,
   "id": "f0b70b13-a992-4562-ac5d-d00f257b59dd",
   "metadata": {},
   "outputs": [],
   "source": [
    "response['content'][0]['text']"
   ]
  },
  {
   "cell_type": "code",
   "execution_count": null,
   "id": "af6273bd-010b-4a67-bb64-6728091f6041",
   "metadata": {},
   "outputs": [],
   "source": []
  },
  {
   "cell_type": "code",
   "execution_count": null,
   "id": "a45ba713-9f1b-4aff-be91-50307f4babbb",
   "metadata": {},
   "outputs": [],
   "source": []
  }
 ],
 "metadata": {
  "kernelspec": {
   "display_name": "Python 3 (ipykernel)",
   "language": "python",
   "name": "python3"
  },
  "language_info": {
   "codemirror_mode": {
    "name": "ipython",
    "version": 3
   },
   "file_extension": ".py",
   "mimetype": "text/x-python",
   "name": "python",
   "nbconvert_exporter": "python",
   "pygments_lexer": "ipython3",
   "version": "3.10.14"
  }
 },
 "nbformat": 4,
 "nbformat_minor": 5
}
