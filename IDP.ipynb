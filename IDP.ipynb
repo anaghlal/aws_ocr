{
 "cells": [
  {
   "cell_type": "code",
   "execution_count": null,
   "id": "e140a811-13a1-4ef4-b32d-b360ca9e5b4a",
   "metadata": {},
   "outputs": [],
   "source": [
    "import json\n",
    "import xml.etree.ElementTree as ET\n",
    "from datetime import datetime\n",
    "from os import listdir, makedirs\n",
    "from os.path import isfile, join\n",
    "import shutil\n",
    "\n",
    "import boto3\n",
    "from IPython.display import HTML, display, Image as IImage\n",
    "from PIL import Image, ImageDraw, ImageFont\n",
    "import time\n",
    "import os\n",
    "\n",
    "from IPython.display import JSON\n"
   ]
  },
  {
   "cell_type": "code",
   "execution_count": null,
   "id": "9bf0cc04-0332-4d25-a802-9ee0ea1d9aef",
   "metadata": {},
   "outputs": [],
   "source": [
    "mySession = boto3.session.Session()\n",
    "awsRegion = mySession.region_name\n",
    "print (\"AWS Region : \" + awsRegion)"
   ]
  },
  {
   "cell_type": "code",
   "execution_count": null,
   "id": "97ab4005-3ffc-4c10-93be-77be6441b95a",
   "metadata": {},
   "outputs": [],
   "source": [
    "# Init clients\n",
    "rekognition = boto3.client('rekognition')\n",
    "s3 = boto3.client('s3')"
   ]
  },
  {
   "cell_type": "code",
   "execution_count": null,
   "id": "6ead6bef-bed7-4a1e-b5e6-d25afa39966b",
   "metadata": {},
   "outputs": [],
   "source": [
    "bucketName = f\"anagh-sample\"\n",
    "imageName = \"rishi-pan.png\"\n",
    "\n",
    "display(IImage(url=s3.generate_presigned_url('get_object', Params={'Bucket': bucketName, 'Key': imageName})))"
   ]
  },
  {
   "cell_type": "code",
   "execution_count": null,
   "id": "9f83724b-3f2c-4d58-b2ed-b164cb600285",
   "metadata": {},
   "outputs": [],
   "source": [
    "detectTextResponse = rekognition.detect_text(\n",
    "    Image={\n",
    "        'S3Object': {\n",
    "            'Bucket': bucketName,\n",
    "            'Name': imageName,\n",
    "        }\n",
    "      },\n",
    "      Filters={\n",
    "        'WordFilter': {\n",
    "            'MinConfidence': 50\n",
    "        }\n",
    "      }\n",
    ")"
   ]
  },
  {
   "cell_type": "code",
   "execution_count": null,
   "id": "a1306558-e141-4467-ba6a-e3ba15dac2d9",
   "metadata": {},
   "outputs": [],
   "source": [
    "detectTextResponse"
   ]
  },
  {
   "cell_type": "code",
   "execution_count": null,
   "id": "ffdedb06-3c56-4b3c-9e4a-2a5429fef616",
   "metadata": {},
   "outputs": [],
   "source": [
    "import string\n",
    "\n",
    "for textDetection in detectTextResponse[\"TextDetections\"]:\n",
    "    # strip punctuation before checking match\n",
    "    text = textDetection[\"DetectedText\"].translate(str.maketrans('', '', string.punctuation))\n",
    "    print(text)\n",
    "    "
   ]
  }
 ],
 "metadata": {
  "kernelspec": {
   "display_name": "Python 3 (ipykernel)",
   "language": "python",
   "name": "python3"
  },
  "language_info": {
   "codemirror_mode": {
    "name": "ipython",
    "version": 3
   },
   "file_extension": ".py",
   "mimetype": "text/x-python",
   "name": "python",
   "nbconvert_exporter": "python",
   "pygments_lexer": "ipython3",
   "version": "3.10.14"
  }
 },
 "nbformat": 4,
 "nbformat_minor": 5
}
